{
 "cells": [
  {
   "cell_type": "markdown",
   "id": "e2dcf1bd-0aa0-4f4c-b807-bd141d484d2f",
   "metadata": {},
   "source": [
    "# UKRN Open and Transparent Research Practices (OTRP) Survey Analysis Script"
   ]
  },
  {
   "cell_type": "markdown",
   "id": "0af20135-fa1c-4b9b-8d04-642e73d2549b",
   "metadata": {},
   "source": [
    "## About\n",
    "\n",
    "Welcome to the UKRN OTRP Survey analysis notebook!\n",
    "\n",
    "This notebook can be used to analyse various data collected through the first run of the OTRP survey between December 2022 and April 2023. To get the relevant data, please head to our Figshare repository and pull the dataset(s) you want to use: https://doi.org/10.48420/22094216.v1\n",
    "\n",
    "We assume that you found this notebook in our GitHub repo and you are familiar with what this is all about and the necessary requirements to run this notebook written in Python! No? Please have a look at: https://github.com/LukasNoe/ukrn_otrp\n",
    "\n",
    "Feel free to use our code for whatever reasons you like and you deem it useful for, unless it's illegal or discriminatory. Always respect the **GNU General Public License v3.0** this notebook and everything else related to it is released under.\n",
    "\n",
    "\n"
   ]
  },
  {
   "cell_type": "code",
   "execution_count": null,
   "id": "1e87d5b4-3ddf-4682-9903-b5c8c45db355",
   "metadata": {},
   "outputs": [],
   "source": []
  }
 ],
 "metadata": {
  "kernelspec": {
   "display_name": "Python 3 (ipykernel)",
   "language": "python",
   "name": "python3"
  },
  "language_info": {
   "codemirror_mode": {
    "name": "ipython",
    "version": 3
   },
   "file_extension": ".py",
   "mimetype": "text/x-python",
   "name": "python",
   "nbconvert_exporter": "python",
   "pygments_lexer": "ipython3",
   "version": "3.9.13"
  }
 },
 "nbformat": 4,
 "nbformat_minor": 5
}
